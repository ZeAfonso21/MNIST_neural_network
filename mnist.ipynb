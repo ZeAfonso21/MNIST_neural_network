{
 "cells": [
  {
   "cell_type": "markdown",
   "id": "daa4864e-68c1-4549-9a9f-e18a0623493c",
   "metadata": {},
   "source": [
    "Implementation of mnist neural network"
   ]
  },
  {
   "cell_type": "markdown",
   "id": "c84443ca-d09a-4257-a84c-18335f46a742",
   "metadata": {},
   "source": [
    "Math behind the neural network:\n",
    "In this case the network consists of 3 layers. The input layer, one hidden layer and one output layer.\n",
    "\n",
    "The input layer contains 784 nodes since the image examples used as input are of size 28x28 pixels which equates to 784 individual pixels. Each pixel has a gray scale value that ranges from 0 (black) to 255 (white).\n",
    "Each node of the input layer is connected to each node of the hidden layer, each node of the hidden layer is connected to each not of the output layer.\n",
    "\n",
    "For this neural network the hidden layer contains 10 nodes. The amount of hidden layers and number of neurons per hidden layer is empirically chosen. 11 or 9 nodes could have also been chosen for the hidden layer. An extra layer would however introduce to much complexity for the type of problem tackeled here in the mnist data set and could even perform worse.\n",
    "\n",
    "Finally the output layer logically contains 10 nodes, where each node corresponds to a digit 0-9. If after the values of an image propagates though the network and the fifth node of the output layer contains the highest value, it is understood that the network predicts that the number 5 is the most probable number written in the example/input image.\n",
    "\n",
    "When it is said that nodes of one layer are \"connected\" to nodes of the next layer, the concept of weights comes into play. Basically the values of the input layer need to propagate through the neurons/nodes of the hidden layer which in turn again propagates the to the output layer. During the propagation, each node will receive the values coming from the previous layer and add them up. The KEY point here is that the value of a node do not get just \"sent over\" to the next node. The value of that node gets first multiplied by a weight, a parameter, unique for that especific connection between node A from layer $n-1$ and node B from layer $n$. \n",
    "Additionally there is also a bias parameter that also gets added into the entire mix. Mathematically, each node gets its value compute like so: $\\text{node\\_value} = \\sum_{i=0}^{n} \\text{prev\\_node}_i \\cdot \\text{weight}_i + \\text{bias}$\n",
    "\n",
    "Using as example the input and the hidden layer, since each input node connects to every other single node of the hidden layer, each input node has 10 weights values, so in total there are $10 \\cdot 784 = 7840$ weights/parameters between these layers plus 10 biases.\n",
    "\n",
    "In order to break with the linearity of the network which increases the complexity of our network, an actvation function is introducte and is applied to the node after the propagated values are received and before the node propagates to the next layer. In the case of this project, the activation function is the ReLU function: $f(x) = max(0,x)$\n",
    "\n",
    "It is easy to imagine that if the weights and biases of the neural network get randomly initialized, the values of the output layer are going to be complete nonsense. Basically the entire goal of training a neural network is to fine tune the values of the weights and biases so that after the input gets propagated, the output actually makes sense. The entire approach consists of these steps:\n",
    "- Step 1: propagate an example image through the network;\n",
    "- Step 2: Slightly alter the values of the weights and biases of the entire network, to make the output look a litte bit better (closer to the image true value -> value 5 if it is an image of a hand-written 5);\n",
    "- Step 3: go to step 1 if predictions are still bad or stop if predictions are good enough;\n",
    "\n",
    "Once the weights and biases the fine tuned, our neural network is trained.\n",
    "The big question is how to properly adjust the weights after every propagation? The algorithm that efficiently does this is called gradient descent. Here is how it works:\n",
    "\n",
    "Each layer, including the output layer, can be seen as a vector, where each node is an entry. Since the example images are labeled, after propagating an image through the untrained network, the output vector can be compared to the label vector where every entry is 0 except one with the value of 1. We can compute the difference of our result and the label by taking the square difference between our output vector (y_pred) and the label vector(y). This is usually known as the Loss or Cost function.\n",
    "$$\n",
    "\\mathcal{L} = \\frac{1}{2} \\sum_{i=1}^{n} \\left( y\\_pred_i - y_i \\right)^2\n",
    "$$\n",
    "The goal is to minimize this loss function! The problem is that this loss function is highly complex, there is no closed-form solution for it, we cannot simply calculate $Loss'(\\theta) = 0$. We can however, still compute is gradient which tells us the \"direction\" (in a much higher dimension, but still) where the Loss function gets to a higher value the fastest. If we multiply this gradient by -1 we get the exact opposite, that is, the direction where the Loss gets lower the fastest.\n",
    "\n",
    "Basically if we compute the gradient, we know how to nudge/tune our weights and biases. The thing is that because our Loss function is not convex, we cannot adjust our parameters to hard at once becuase we may overshoot our landing and go past the local minima we are looking for. This is why we adjust our parameters just a little bit in the negative gradient direction. Mathematically: \n",
    "\n",
    "\\begin{aligned}\n",
    "w_{i}^{t+1} &= w_{i}^t - \\alpha \\frac{\\partial R}{\\partial w_{i}} \\\\\n",
    "b_{i}^{t+1} &= b_{i}^t - \\alpha \\frac{\\partial R}{\\partial b_{i}}\n",
    "\\end{aligned}\n",
    "\n",
    "Where $W_i$ and $b_i$ are the weights are biases of each layer $\\alpha$ is our step size and $\\frac{\\partial R}{\\partial x_{i}}$ is the partial derivative of the Loss function in regard to parameter $x_i$\n",
    "\n",
    "The last difficulty is to actually calculate the partial derivatives, which are the entries of our gradient vector. For that we use backpropagation which basically is to use the chain rule of analysis to compute the partial derivatives. This network has one set of weights and biases between input and hidden layer and another set between hidden and output layer. Mathematically:\n",
    "\n",
    "\\begin{aligned}\n",
    "\\frac{\\partial \\mathcal{L}}{\\partial W^{[2]}} &= \\frac{\\partial \\mathcal{L}}{\\partial A^{[2]}} \\cdot \\frac{\\partial A^{[2]}}{\\partial Z^{[2]}} \\cdot \\frac{\\partial Z^{[2]}}{\\partial W^{[2]}} \\\\\n",
    "\\frac{\\partial \\mathcal{L}}{\\partial b^{[2]}} &= \\frac{\\partial \\mathcal{L}}{\\partial A^{[2]}} \\cdot \\frac{\\partial A^{[2]}}{\\partial Z^{[2]}} \\cdot \\frac{\\partial Z^{[2]}}{\\partial b^{[2]}} \\\\\n",
    "\\frac{\\partial \\mathcal{L}}{\\partial W^{[1]}} &= \\frac{\\partial \\mathcal{L}}{\\partial A^{[2]}} \\cdot \\frac{\\partial A^{[2]}}{\\partial Z^{[2]}} \\cdot \\frac{\\partial Z^{[2]}}{\\partial A^{[1]}} \\cdot \\frac{\\partial A^{[1]}}{\\partial Z^{[1]}} \\cdot \\frac{\\partial Z^{[1]}}{\\partial W^{[1]}} \\\\\n",
    "\\frac{\\partial \\mathcal{L}}{\\partial b^{[1]}} &= \\frac{\\partial \\mathcal{L}}{\\partial A^{[2]}} \\cdot \\frac{\\partial A^{[2]}}{\\partial Z^{[2]}} \\cdot \\frac{\\partial Z^{[2]}}{\\partial A^{[1]}} \\cdot \\frac{\\partial A^{[1]}}{\\partial Z^{[1]}} \\cdot \\frac{\\partial Z^{[1]}}{\\partial b^{[1]}}\n",
    "\\end{aligned}\n",
    "\n",
    "Where\n",
    "\n",
    "\\begin{aligned}\n",
    "Z^{[1]} &:= X \\cdot W^{[1]} +  \\overrightarrow{\\mathbf{1}} \\cdot b^{[1]} \\\\\n",
    "A^{[1]} &:= \\sigma \\left(Z^{[1]}\\right) \\\\\n",
    "Z^{[2]} &:= A^{[1]} \\cdot W^{[2]} + \\overrightarrow{\\mathbf{1}} \\cdot b^{[2]} \\\\\n",
    "A^{[2]} &:= \\sigma \\left(Z^{[2]}\\right)\n",
    "\\end{aligned}\n",
    "\n"
   ]
  },
  {
   "cell_type": "markdown",
   "id": "80c3e64d-ed39-4e37-b4c9-769470c64e93",
   "metadata": {},
   "source": [
    "For this project, in order to get a deeper understanding of how a neural network functions, frameworks like pytorch and tensorflow are not used here. The forward and backpropagation functions are implemented here from scratch. These are the libraries used:"
   ]
  },
  {
   "cell_type": "code",
   "execution_count": 1,
   "id": "ec0bb768-f760-4b09-9654-13ac509f691f",
   "metadata": {},
   "outputs": [],
   "source": [
    "import pandas as pd\n",
    "import numpy as np\n",
    "import matplotlib.pyplot as plt"
   ]
  },
  {
   "cell_type": "markdown",
   "id": "6d5fee5b-85ab-4670-ab6f-921161ae26f2",
   "metadata": {},
   "source": [
    "To makes this implementation more modular, which makes tweeks easier in the future, I opted to make use of classes for my layers and a my neural network itself."
   ]
  },
  {
   "cell_type": "code",
   "execution_count": 2,
   "id": "a3acfa43-1b33-4a49-a0f7-9671e0b344ca",
   "metadata": {},
   "outputs": [],
   "source": [
    "class Layer:\n",
    "    def __init__(self, input_size, output_size, output_layer):\n",
    "        self.input_size = input_size\n",
    "        self.output_size = output_size\n",
    "        #start biases with either 0s or very small values\n",
    "        self.biases = np.random.randn(output_size, 1)*0.1\n",
    "        #use He init because it works best with ReLU activations\n",
    "        self.weights = np.random.randn(output_size, input_size) * np.sqrt(2. / input_size)\n",
    "    \n",
    "        if output_layer:\n",
    "            self.activation_func = lambda x: x\n",
    "            self.activation_prime = lambda x: 1\n",
    "        else:\n",
    "            self.activation_func = lambda x: np.maximum(0, x)\n",
    "            self.activation_prime = lambda x: (x > 0)\n",
    "        "
   ]
  },
  {
   "cell_type": "code",
   "execution_count": 3,
   "id": "b4cfdce5-c6ea-49fe-af91-3de93bfd72d6",
   "metadata": {},
   "outputs": [],
   "source": [
    "class NeuralNetwork:\n",
    "    def __init__(self, hidden_layer_sizes):\n",
    "        self.layers = []\n",
    "        #cache to store Z_k and A_k computed during forward_prop to use them in back_prop\n",
    "        self.cache = []\n",
    "        #input layer:\n",
    "        self.layers.append(Layer(784, 10, False))\n",
    "        #add hidden layers\n",
    "        for i in range(len(hidden_layer_sizes)):\n",
    "            self.layers.append(Layer(hidden_layer_sizes[i][0], hidden_layer_sizes[i][1], False))\n",
    "        #add output layer\n",
    "        if len(hidden_layer_sizes) > 0:\n",
    "            self.layers.append(Layer(hidden_layer_sizes[len(hidden_layer_sizes)-1][1], 10, True))\n",
    "        else:\n",
    "            self.layers.append(Layer(10, 10, True))\n",
    "\n",
    "        self.output = None\n",
    "\n",
    "    def soft_max(self, Z):\n",
    "        Z_shifted = Z - np.max(Z, axis=0, keepdims=True)  # prevent overflow\n",
    "        expZ = np.exp(Z_shifted)\n",
    "        return expZ / np.sum(expZ, axis=0, keepdims=True)\n",
    "\n",
    "\n",
    "    def forward_prop(self, X):\n",
    "        A_prev = X\n",
    "        self.cache = []\n",
    "        for layer in self.layers:\n",
    "            # even though W * A_prev is of dimension 10xbatch and the biases is 10x1 numby automatically broadcasts\n",
    "            #the biases to each column of W * A_prev\n",
    "            Z = np.dot(layer.weights, A_prev)  + layer.biases\n",
    "            A_current = layer.activation_func(Z)\n",
    "            self.cache.append((Z, A_prev))\n",
    "            #for this layer A_current is the output of the layer, for the next layer it will be its input\n",
    "            A_prev = A_current\n",
    "        self.output = self.soft_max(A_prev)\n",
    "        return self.output\n",
    "\n",
    "    #using MSE loss where L = 1/2m * sum(Y-A)² where m is the batch size\n",
    "    def back_prop(self, Y, batch, learning_rate):\n",
    "       \n",
    "        dA = (self.output - Y)\n",
    "\n",
    "        for i in reversed(range(len(self.layers))):\n",
    "            layer = self.layers[i]\n",
    "            Z, A_prev = self.cache[i]\n",
    "            #dX here means partial derivative in regard to X. Think of it like the chain rule until X\n",
    "            dZ = dA * layer.activation_prime(Z)\n",
    "            dW = 1/batch * np.dot(dZ, A_prev.T) \n",
    "            db = 1/batch * np.sum(dZ, axis=1, keepdims=True) \n",
    "            dA = np.dot(layer.weights.T, dZ)\n",
    "\n",
    "            # update\n",
    "            layer.weights -= learning_rate * dW\n",
    "            layer.biases -= learning_rate * db\n",
    "\n",
    "        \n",
    "        \n",
    "    def get_predictions(self, Y_pred):\n",
    "        return np.argmax(Y_pred, 0)\n",
    "\n",
    "    def get_accuracy(self, predictions, Y_scalar):\n",
    "        return np.sum(predictions == Y_scalar) / Y_scalar.size\n",
    "\n",
    "    def get_batch(self, batch_size, train_data, offset):\n",
    "        X = train_data[offset*batch_size : (offset+1)*batch_size,1:].T / 255.\n",
    "        Y_scalar = train_data[offset*batch_size : (offset+1)*batch_size,0]\n",
    "        Y = np.zeros((10, Y_scalar.shape[0]))\n",
    "        Y[Y_scalar, np.arange(Y_scalar.shape[0])] = 1\n",
    "        return X, Y, Y_scalar\n",
    "        \n",
    "    def train_nn(self,train_data, batch_size, epochs, steps_per_epoch, learning_rate):\n",
    "        for epoch in range(epochs):\n",
    "            #shuffle the training data after every epoch\n",
    "            np.random.shuffle(train_data)\n",
    "            for batch in range(steps_per_epoch):\n",
    "                #get current batch of examples\n",
    "                X_train, Y_train, Y_train_scalar = self.get_batch(batch_size, train_data, batch)\n",
    "               #first do the forward propagation of the mini-batch\n",
    "                Y_pred = self.forward_prop(X_train)\n",
    "                #check accuracy:\n",
    "                if batch % 100 == 0 and epoch % 5 == 0:\n",
    "                    print(f\"Epoch {epoch}, batch {batch} -> Accuracy: {self.get_accuracy(self.get_predictions(Y_pred), Y_train_scalar)}\")\n",
    "                #now we do the backwards propagation and update the weights\n",
    "                self.back_prop(Y_train, batch_size, learning_rate)\n",
    "        return 0  \n",
    "\n",
    "    def test_nn(self, test_data):\n",
    "        #just wanna test to see if the training is working. no need to use batch testing\n",
    "        X_test = test_data[:, 1:].T\n",
    "        Y_test_scalar = test_data[:,0]\n",
    "        Y_pred = self.forward_prop(X_test)\n",
    "        print(\"Test Accuracy (on entire test set): \", self.get_accuracy(self.get_predictions(Y_pred), Y_test_scalar))\n",
    "        \n",
    "            "
   ]
  },
  {
   "cell_type": "markdown",
   "id": "62006159-3147-49f6-b7ee-b8491a71908a",
   "metadata": {},
   "source": [
    "Now we initialize an instance of the class, train, and finally test our model"
   ]
  },
  {
   "cell_type": "code",
   "execution_count": 4,
   "id": "a67223d2-1da7-45da-a4b7-453571c6cf46",
   "metadata": {},
   "outputs": [
    {
     "name": "stdout",
     "output_type": "stream",
     "text": [
      "Layer: 0\n",
      "Weights matrix dimentions: 10 by 784\n",
      "Biases vector dimentions: 10 by 1 \n",
      "\n",
      "Layer: 1\n",
      "Weights matrix dimentions: 10 by 10\n",
      "Biases vector dimentions: 10 by 1 \n",
      "\n",
      "Epoch 0, batch 0 -> Accuracy: 0.09\n",
      "Epoch 0, batch 100 -> Accuracy: 0.78\n",
      "Epoch 0, batch 200 -> Accuracy: 0.76\n",
      "Epoch 0, batch 300 -> Accuracy: 0.81\n",
      "Epoch 0, batch 400 -> Accuracy: 0.92\n",
      "Epoch 0, batch 500 -> Accuracy: 0.93\n",
      "Epoch 5, batch 0 -> Accuracy: 0.96\n",
      "Epoch 5, batch 100 -> Accuracy: 0.9\n",
      "Epoch 5, batch 200 -> Accuracy: 0.89\n",
      "Epoch 5, batch 300 -> Accuracy: 0.95\n",
      "Epoch 5, batch 400 -> Accuracy: 0.96\n",
      "Epoch 5, batch 500 -> Accuracy: 0.97\n",
      "Epoch 10, batch 0 -> Accuracy: 0.91\n",
      "Epoch 10, batch 100 -> Accuracy: 0.97\n",
      "Epoch 10, batch 200 -> Accuracy: 0.97\n",
      "Epoch 10, batch 300 -> Accuracy: 0.91\n",
      "Epoch 10, batch 400 -> Accuracy: 0.92\n",
      "Epoch 10, batch 500 -> Accuracy: 0.91\n",
      "Epoch 15, batch 0 -> Accuracy: 0.92\n",
      "Epoch 15, batch 100 -> Accuracy: 0.95\n",
      "Epoch 15, batch 200 -> Accuracy: 0.93\n",
      "Epoch 15, batch 300 -> Accuracy: 0.95\n",
      "Epoch 15, batch 400 -> Accuracy: 0.97\n",
      "Epoch 15, batch 500 -> Accuracy: 0.94\n",
      "Epoch 20, batch 0 -> Accuracy: 0.94\n",
      "Epoch 20, batch 100 -> Accuracy: 0.95\n",
      "Epoch 20, batch 200 -> Accuracy: 0.93\n",
      "Epoch 20, batch 300 -> Accuracy: 0.93\n",
      "Epoch 20, batch 400 -> Accuracy: 0.94\n",
      "Epoch 20, batch 500 -> Accuracy: 0.92\n",
      "Epoch 25, batch 0 -> Accuracy: 0.94\n",
      "Epoch 25, batch 100 -> Accuracy: 0.94\n",
      "Epoch 25, batch 200 -> Accuracy: 0.96\n",
      "Epoch 25, batch 300 -> Accuracy: 0.91\n",
      "Epoch 25, batch 400 -> Accuracy: 0.98\n",
      "Epoch 25, batch 500 -> Accuracy: 0.96\n",
      "Test Accuracy (on entire test set):  0.9202\n"
     ]
    }
   ],
   "source": [
    "nn = NeuralNetwork([])\n",
    "i = 0\n",
    "for layer in nn.layers:\n",
    "    print(f\"Layer: {i}\")\n",
    "    print(f\"Weights matrix dimentions: {layer.weights.shape[0]} by {layer.weights.shape[1]}\")\n",
    "    print(f\"Biases vector dimentions: {layer.biases.shape[0]} by {layer.biases.shape[1]} \")\n",
    "    i= i+1\n",
    "    print()\n",
    "\n",
    "nn.train_nn(pd.read_csv(\"mnist_train.csv\").to_numpy(), 100, 30, 600, 0.1)\n",
    "nn.test_nn(pd.read_csv(\"mnist_test.csv\").to_numpy())\n",
    "\n",
    "\n",
    "\n",
    "    "
   ]
  },
  {
   "cell_type": "markdown",
   "id": "fae7a6bd-e819-4ec2-9b3f-13fa13f8c869",
   "metadata": {},
   "source": [
    "Final Test Accuracy is of approx. 92% on the test data set, which is pretty cool.\n",
    "\n",
    "This part is made for pure visualization of the trained model. We take 10 random examples from the test data and to a prediction of them. To make this fun we also show the image used as input for the model."
   ]
  },
  {
   "cell_type": "code",
   "execution_count": 5,
   "id": "b07570a7-d29d-4e97-a8c3-a16c6ea913b8",
   "metadata": {},
   "outputs": [
    {
     "data": {
      "image/png": "[encoded data removed]",
      "text/plain": [
       "<Figure size 150x150 with 1 Axes>"
      ]
     },
     "metadata": {},
     "output_type": "display_data"
    },
    {
     "data": {
      "image/png": "[encoded data removed]",
      "text/plain": [
       "<Figure size 150x150 with 1 Axes>"
      ]
     },
     "metadata": {},
     "output_type": "display_data"
    },
    {
     "data": {
      "image/png": "[encoded data removed]",
      "text/plain": [
       "<Figure size 150x150 with 1 Axes>"
      ]
     },
     "metadata": {},
     "output_type": "display_data"
    },
    {
     "data": {
      "image/png": "[encoded data removed]",
      "text/plain": [
       "<Figure size 150x150 with 1 Axes>"
      ]
     },
     "metadata": {},
     "output_type": "display_data"
    },
    {
     "data": {
      "image/png": "[encoded data removed]",
      "text/plain": [
       "<Figure size 150x150 with 1 Axes>"
      ]
     },
     "metadata": {},
     "output_type": "display_data"
    },
    {
     "data": {
      "image/png": "[encoded data removed]",
      "text/plain": [
       "<Figure size 150x150 with 1 Axes>"
      ]
     },
     "metadata": {},
     "output_type": "display_data"
    },
    {
     "data": {
      "image/png": "[encoded data removed]",
      "text/plain": [
       "<Figure size 150x150 with 1 Axes>"
      ]
     },
     "metadata": {},
     "output_type": "display_data"
    },
    {
     "data": {
      "image/png": "[encoded data removed]",
      "text/plain": [
       "<Figure size 150x150 with 1 Axes>"
      ]
     },
     "metadata": {},
     "output_type": "display_data"
    },
    {
     "data": {
      "image/png": "[encoded data removed]",
      "text/plain": [
       "<Figure size 150x150 with 1 Axes>"
      ]
     },
     "metadata": {},
     "output_type": "display_data"
    },
    {
     "data": {
      "image/png": "[encoded data removed]",
      "text/plain": [
       "<Figure size 150x150 with 1 Axes>"
      ]
     },
     "metadata": {},
     "output_type": "display_data"
    }
   ],
   "source": [
    "import matplotlib.pyplot as plt\n",
    "\n",
    "def test_with_visualization(test_data, nn):\n",
    "    for i in range(10):\n",
    "        # 1. Pick a random test index\n",
    "        r = np.random.randint(0, 10000)\n",
    "        test_row = test_data[r]\n",
    "\n",
    "        # 2. Extract label and input\n",
    "        label = test_row[0]\n",
    "        test_example = test_row[1:].reshape(784, 1) / 255.0  # shape (784, 1)\n",
    "\n",
    "        \n",
    "        prediction = nn.forward_prop(test_example)\n",
    "        prediction = nn.get_predictions(prediction)\n",
    "        \n",
    "        # Show the image\n",
    "        plt.figure(figsize=(1.5, 1.5))\n",
    "        plt.imshow(test_example.reshape(28, 28), cmap='gray')\n",
    "        plt.title(f\"True label: {label} \\n Prediction: {prediction[0]}\")\n",
    "        plt.axis('off')\n",
    "        plt.show()\n",
    "\n",
    "test_with_visualization(pd.read_csv(\"mnist_test.csv\").to_numpy(), nn)"
   ]
  },
  {
   "cell_type": "code",
   "execution_count": null,
   "id": "e494bb19-dae5-4ed4-aefb-5594b047fcd5",
   "metadata": {},
   "outputs": [],
   "source": []
  }
 ],
 "metadata": {
  "kernelspec": {
   "display_name": "Python 3 (ipykernel)",
   "language": "python",
   "name": "python3"
  },
  "language_info": {
   "codemirror_mode": {
    "name": "ipython",
    "version": 3
   },
   "file_extension": ".py",
   "mimetype": "text/x-python",
   "name": "python",
   "nbconvert_exporter": "python",
   "pygments_lexer": "ipython3",
   "version": "3.13.3"
  }
 },
 "nbformat": 4,
 "nbformat_minor": 5
}
